{
  "nbformat": 4,
  "nbformat_minor": 0,
  "metadata": {
    "colab": {
      "provenance": [],
      "authorship_tag": "ABX9TyOBLWp8mudeIwfrH6UoaQPv",
      "include_colab_link": true
    },
    "kernelspec": {
      "name": "python3",
      "display_name": "Python 3"
    },
    "language_info": {
      "name": "python"
    }
  },
  "cells": [
    {
      "cell_type": "markdown",
      "metadata": {
        "id": "view-in-github",
        "colab_type": "text"
      },
      "source": [
        "<a href=\"https://colab.research.google.com/github/DIAPkuik237/regression-lineaire-simple/blob/main/Droite_de_r%C3%A9gression_simple.ipynb\" target=\"_parent\"><img src=\"https://colab.research.google.com/assets/colab-badge.svg\" alt=\"Open In Colab\"/></a>"
      ]
    },
    {
      "cell_type": "code",
      "execution_count": null,
      "metadata": {
        "id": "3o8uqhs7MoTF"
      },
      "outputs": [],
      "source": [
        "import numpy as np\n",
        "import matplotlib.pyplot as plt\n",
        "\n",
        "# Données (étudiants A, B, C)\n",
        "x = np.array([2, 3, 1])  # Heures d'étude\n",
        "y = np.array([0.3, 0.5, 0.4])  # Scores\n",
        "\n",
        "# Calcul des moyennes\n",
        "x_mean = np.mean(x)\n",
        "y_mean = np.mean(y)\n",
        "\n",
        "# Calcul coefficients a (pente) et b (ordonnée à l'origine)\n",
        "numerateur = np.sum((x - x_mean) * (y - y_mean))\n",
        "denominateur = np.sum((x - x_mean) ** 2)\n",
        "a = numerateur / denominateur\n",
        "b = y_mean - a * x_mean\n",
        "\n",
        "print(f\"Equation de la droite : y = {a:.2f} * x + {b:.2f}\")\n",
        "\n",
        "# Prédiction pour 4 heures d'étude\n",
        "x_pred = 4\n",
        "y_pred = a * x_pred + b\n",
        "print(f\"Prediction pour 4h : y = {y_pred:.2f}\")\n",
        "\n",
        "# Préparation de la droite de regression\n",
        "x_line = np.linspace(0, 5, 100)\n",
        "y_line = a * x_line + b\n",
        "\n",
        "# Visualisation\n",
        "plt.figure(figsize=(8, 5))\n",
        "plt.scatter(x, y, color='blue', label='Données (étudiants)')\n",
        "# Annotation des points\n",
        "etiquettes = ['A (2h)', 'B (3h)', 'C (1h)']\n",
        "for i, txt in enumerate(etiquettes):\n",
        "    plt.annotate(txt, (x[i] + 0.05, y[i] + 0.01))\n",
        "\n",
        "plt.plot(x_line, y_line, color='green', label=f'Droite: y = {a:.2f}x + {b:.2f}')\n",
        "plt.scatter(x_pred, y_pred, color='red', label=f'Prédiction (4h → {y_pred:.2f})', s=100, marker='x')\n",
        "\n",
        "plt.xlabel(\"Heures d'étude\")\n",
        "plt.ylabel(\"Score de réussite\")\n",
        "plt.title(\"Régression linéaire simple (étudiants A, B, C)\")\n",
        "plt.legend()\n",
        "plt.grid(True)\n",
        "plt.xlim(0, 5)\n",
        "plt.ylim(0, 1)\n",
        "plt.show()\n"
      ]
    }
  ]
}